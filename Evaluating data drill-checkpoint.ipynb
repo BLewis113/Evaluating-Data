{
 "cells": [
  {
   "cell_type": "markdown",
   "metadata": {},
   "source": [
    "1)The data used is from Christmas Eve. Also 1 day of data isn't enough to know the popular neighborhoods in Amsterdam. Instead they could ask the most popular neighborhood for Christmas vacation or use more data to answer current question. \n",
    "\n",
    "2)The data used is from the day after 9-11. In New York City there would be an abnormal influx of people seing mental health services to deal with that experience. To answer current question they should use data from a different day.\n",
    "\n",
    "3)Approximately 94% of the people surveryed reported to be students and also report a 0 income which creates a bias in the data towards students and the way they behave."
   ]
  }
 ],
 "metadata": {
  "kernelspec": {
   "display_name": "Python 3",
   "language": "python",
   "name": "python3"
  },
  "language_info": {
   "codemirror_mode": {
    "name": "ipython",
    "version": 3
   },
   "file_extension": ".py",
   "mimetype": "text/x-python",
   "name": "python",
   "nbconvert_exporter": "python",
   "pygments_lexer": "ipython3",
   "version": "3.7.1"
  }
 },
 "nbformat": 4,
 "nbformat_minor": 2
}
